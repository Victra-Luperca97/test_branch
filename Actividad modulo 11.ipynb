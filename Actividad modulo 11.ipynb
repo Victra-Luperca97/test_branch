{
 "cells": [
  {
   "cell_type": "markdown",
   "metadata": {},
   "source": [
    "### 1) Generar un archivo tipo Notebook de Python que contenga el código fuente de varios ejercicios aplicados a los conceptos vistos:\n",
    "- Función lambda para obtener la raíz cuadrada de un número.\n",
    "- Función map, para obtener el largo de una cadena de palabras. Tip! La cadena tiene que ser dividida en palabras antes de empezar.\n",
    "- Función reduce, que sirva para calcular el producto de una lista\n",
    "- Función filter que sirva para encontrar palabras que contengan mayúsculas onúmeros en un listado\n",
    "### 2) Por cada ejercicio es necesario realizar el código en Python sin utilizar la función estudiada, y además generar el código utilizando la función estudiada. Incluir un ejemplo por cada una."
   ]
  },
  {
   "cell_type": "code",
   "execution_count": 1,
   "metadata": {},
   "outputs": [
    {
     "data": {
      "text/plain": [
       "8.0"
      ]
     },
     "execution_count": 1,
     "metadata": {},
     "output_type": "execute_result"
    }
   ],
   "source": [
    "# - Función lambda para obtener la raíz cuadrada de un número.\n",
    "# Sin funcion lambda, Raiz cuadrada\n",
    "def raiz(n):\n",
    "    return n**(1/2)\n",
    "raiz(64)"
   ]
  },
  {
   "cell_type": "code",
   "execution_count": 2,
   "metadata": {},
   "outputs": [
    {
     "data": {
      "text/plain": [
       "9.0"
      ]
     },
     "execution_count": 2,
     "metadata": {},
     "output_type": "execute_result"
    }
   ],
   "source": [
    "# Con funcion Lambda\n",
    "Raiz = lambda n: n**(1/2)\n",
    "Raiz(81)"
   ]
  },
  {
   "cell_type": "code",
   "execution_count": 53,
   "metadata": {},
   "outputs": [
    {
     "name": "stdout",
     "output_type": "stream",
     "text": [
      "[4, 4, 7, 3, 6, 4, 5, 8, 3, 3, 10, 2, 4, 4, 2, 8, 7, 6, 3, 7, 12, 3, 4, 2, 3, 3, 3, 5, 3, 7, 6, 4, 3, 3, 3, 4, 2, 10, 3, 7, 2, 3, 4, 3, 4, 4, 5, 3, 8, 3, 3, 3, 9]\n"
     ]
    }
   ],
   "source": [
    "# - Función map, para obtener el largo de una cadena de palabras. Tip! La cadena tiene que ser dividida en palabras antes de empezar.\n",
    "# Sin funcion Map\n",
    "cadena = ('When Anne reached the school that first morning, she was confronted by prim rows of \"shining norning faces\" and bright, inquisitive. she hung up her hat and faced her pupils, hoping that she did not look as frightened and foolish as she felt and that they would not perceive how she was trembling') \n",
    "long = []\n",
    "\n",
    "palabras = cadena.split()\n",
    "for palabra in palabras:\n",
    "    long.append(len(palabra))\n",
    "print(long)\n"
   ]
  },
  {
   "cell_type": "code",
   "execution_count": 34,
   "metadata": {},
   "outputs": [
    {
     "name": "stdout",
     "output_type": "stream",
     "text": [
      "[4, 4, 7, 3, 6, 4, 5, 8, 3, 3, 10, 2, 4, 4, 2, 8, 7, 6, 3, 7, 12, 3, 4, 2, 3, 3, 3, 5, 3, 7, 6, 4, 3, 3, 3, 4, 2, 10, 3, 7, 2, 3, 4, 3, 4, 4, 5, 3, 8, 3, 3, 3, 9]\n"
     ]
    }
   ],
   "source": [
    "#Con funcion Map\n",
    "cadena = ('When Anne reached the school that first morning, she was confronted by prim rows of \"shining norning faces\" and bright, inquisitive. she hung up her hat and faced her pupils, hoping that she did not look as frightened and foolish as she felt and that they would not perceive how she was trembling')\n",
    "palabras = list(map(lambda x: len(x), cadena.split()))\n",
    "print(palabras)"
   ]
  },
  {
   "cell_type": "code",
   "execution_count": 43,
   "metadata": {},
   "outputs": [
    {
     "data": {
      "text/plain": [
       "3840"
      ]
     },
     "execution_count": 43,
     "metadata": {},
     "output_type": "execute_result"
    }
   ],
   "source": [
    "# - Función reduce, que sirva para calcular el producto de una lista\n",
    "# Sin funcion Reduce\n",
    "numbers = [2, 4, 6, 8, 10]\n",
    "def producto(lista):\n",
    "    prod = lista[0]\n",
    "    for number in range(1, len(lista)):\n",
    "        prod *= lista[number]\n",
    "    return prod\n",
    "producto(numbers)\n"
   ]
  },
  {
   "cell_type": "code",
   "execution_count": 35,
   "metadata": {},
   "outputs": [
    {
     "data": {
      "text/plain": [
       "3840"
      ]
     },
     "execution_count": 35,
     "metadata": {},
     "output_type": "execute_result"
    }
   ],
   "source": [
    "# Con funcion Reduce\n",
    "from functools import reduce\n",
    "numbers = [2, 4, 6, 8, 10]\n",
    "reduce(lambda a, b: a * b, numbers)"
   ]
  },
  {
   "cell_type": "code",
   "execution_count": 13,
   "metadata": {},
   "outputs": [
    {
     "data": {
      "text/plain": [
       "['Copyright',\n",
       " '1909',\n",
       " 'L',\n",
       " 'C',\n",
       " 'Page',\n",
       " '&',\n",
       " 'Company',\n",
       " 'Inc',\n",
       " 'Cover',\n",
       " '1992',\n",
       " 'Ben',\n",
       " 'Stahl',\n",
       " 'Anne',\n",
       " 'Green',\n",
       " 'Gables',\n",
       " '1932',\n",
       " 'Canadian',\n",
       " '2018']"
      ]
     },
     "execution_count": 13,
     "metadata": {},
     "output_type": "execute_result"
    }
   ],
   "source": [
    "# - Función filter que sirva para encontrar palabras que contengan mayúsculas o números en un listado\n",
    "# Sin funcion Filter\n",
    "lista = ['Copyright', '1909', 'by', 'L', 'C', 'Page', '&', 'Company', 'Inc', 'Cover', 'art', 'copyright', '1992', 'by', 'Ben', 'Stahl','Anne', 'of', 'Green', 'Gables', '1932', 'is', 'a', 'trademark', 'and', 'a', 'Canadian','oficial', 'mark', '2018']\n",
    "def mayuscula(lista):\n",
    "    lista1 = []\n",
    "    for palabra in lista:\n",
    "        if palabra == palabra.isnumeric():\n",
    "            lista1.append(palabra.isnumeric)\n",
    "\n",
    "        for letra in palabra:\n",
    "            if letra == letra.capitalize():\n",
    "                lista1.append(palabra)\n",
    "                break\n",
    "    return lista1\n",
    "mayuscula(lista)"
   ]
  },
  {
   "cell_type": "code",
   "execution_count": 20,
   "metadata": {},
   "outputs": [
    {
     "data": {
      "text/plain": [
       "['Copyright',\n",
       " '1909',\n",
       " 'L',\n",
       " 'C',\n",
       " 'Page',\n",
       " '&',\n",
       " 'Company',\n",
       " 'Inc',\n",
       " 'Cover',\n",
       " '1992',\n",
       " 'Ben',\n",
       " 'Stahl',\n",
       " 'Anne',\n",
       " 'Green',\n",
       " 'Gables',\n",
       " '1932',\n",
       " 'Canadian',\n",
       " '2018']"
      ]
     },
     "execution_count": 20,
     "metadata": {},
     "output_type": "execute_result"
    }
   ],
   "source": [
    "lista = ['Copyright', '1909', 'by', 'L', 'C', 'Page', '&', 'Company', 'Inc', 'Cover', 'art', 'copyright', '1992', 'by', 'Ben', 'Stahl','Anne', 'of', 'Green', 'Gables', '1932', 'is', 'a', 'trademark', 'and', 'a', 'Canadian','oficial', 'mark', '2018']\n",
    "list(filter(lambda x: x == x.capitalize(), lista))\n"
   ]
  }
 ],
 "metadata": {
  "kernelspec": {
   "display_name": "base",
   "language": "python",
   "name": "python3"
  },
  "language_info": {
   "codemirror_mode": {
    "name": "ipython",
    "version": 3
   },
   "file_extension": ".py",
   "mimetype": "text/x-python",
   "name": "python",
   "nbconvert_exporter": "python",
   "pygments_lexer": "ipython3",
   "version": "3.9.13"
  },
  "orig_nbformat": 4,
  "vscode": {
   "interpreter": {
    "hash": "e1dfd38ab302dfe2d561b03e3d3d330e4710fe92553578a5adb205b88ded54d7"
   }
  }
 },
 "nbformat": 4,
 "nbformat_minor": 2
}
